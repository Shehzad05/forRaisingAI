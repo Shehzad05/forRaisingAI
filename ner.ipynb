{
 "cells": [
  {
   "cell_type": "markdown",
   "metadata": {},
   "source": [
    "define cousine similarity funtion "
   ]
  },
  {
   "cell_type": "code",
   "execution_count": 36,
   "metadata": {},
   "outputs": [],
   "source": [
    "from sentence_transformers import SentenceTransformer, util\n",
    "def cosine_similarity(sentences1, sentences2):\n",
    "    model = SentenceTransformer('all-MiniLM-L6-v2')\n",
    "\n",
    "    # Two lists of sentences\n",
    "\n",
    "\n",
    "    #Compute embedding for both lists\n",
    "    embeddings1 = model.encode(sentences1, convert_to_tensor=True)\n",
    "    embeddings2 = model.encode(sentences2, convert_to_tensor=True)\n",
    "\n",
    "    #Compute cosine-similarities\n",
    "    cosine_scores = util.cos_sim(embeddings1, embeddings2)\n",
    "\n",
    "    #Output the pairs with their score\n",
    "    result=[]\n",
    "    for i in range(len(sentences1)):\n",
    "        print(\"{} \\t\\t {} \\t\\t Score: {:.4f}\".format(sentences1[i], sentences2[i], cosine_scores[i][i]))\n",
    "        result.append([sentences1[i],sentences2[i], float(cosine_scores[i][i])])\n",
    "    return result"
   ]
  },
  {
   "cell_type": "markdown",
   "metadata": {},
   "source": [
    "read annotated data set"
   ]
  },
  {
   "cell_type": "code",
   "execution_count": 37,
   "metadata": {},
   "outputs": [],
   "source": [
    "import pandas as pd\n",
    "df=pd.read_csv(\"sentences.csv\",encoding='latin-1')"
   ]
  },
  {
   "cell_type": "markdown",
   "metadata": {},
   "source": [
    "convert it to list"
   ]
  },
  {
   "cell_type": "code",
   "execution_count": 38,
   "metadata": {},
   "outputs": [],
   "source": [
    "sentences1=df['data'].tolist()"
   ]
  },
  {
   "cell_type": "markdown",
   "metadata": {},
   "source": [
    "define pdf reader funtion"
   ]
  },
  {
   "cell_type": "code",
   "execution_count": 56,
   "metadata": {},
   "outputs": [],
   "source": [
    "\n",
    "# importing required modules\n",
    "import PyPDF2\n",
    "def pdf_to_text():\n",
    "    # creating a pdf file object\n",
    "    pdfFileObj = open('template.pdf', 'rb')\n",
    "    \n",
    "    # creating a pdf reader object\n",
    "    pdfReader = PyPDF2.PdfFileReader(pdfFileObj)\n",
    "    \n",
    "    # printing number of pages in pdf file\n",
    "    print(pdfReader.numPages)\n",
    "    \n",
    "    # creating a page object\n",
    "    pageObj = pdfReader.getPage(0)\n",
    "    \n",
    "    # extracting text from page\n",
    "    print(pageObj.extractText())\n",
    "    text=pageObj.extractText()\n",
    "    \n",
    "    # closing the pdf file object\n",
    "    pdfFileObj.close()\n",
    "    return text"
   ]
  },
  {
   "cell_type": "markdown",
   "metadata": {},
   "source": [
    "convert pdf text into sentences"
   ]
  },
  {
   "cell_type": "code",
   "execution_count": 57,
   "metadata": {},
   "outputs": [
    {
     "name": "stdout",
     "output_type": "stream",
     "text": [
      "1\n",
      "ur Service may contain links to third -party web sites or services that are not \n",
      "owned or controlled  \n",
      "by My Company (change this).  \n",
      "My Company (change this) has no control over, and assumes no responsibility for, \n",
      "the content,  \n",
      "privacy policies, or practices of any third party web sites or services. You \n",
      "further acknowledge and  \n",
      "agree that My Company (change this) shall not be responsible or liable, directly \n",
      "or indirectly, for any  \n",
      "damage or loss caused or alleged to be caused by or  in connection with use of or \n",
      "reliance on any  \n",
      "such content, goods or services available on or through any such web sites or \n",
      "services.  \n",
      " \n"
     ]
    }
   ],
   "source": [
    "import textblob\n",
    "from textblob import TextBlob\n",
    "\n",
    "split_sentences = TextBlob(pdf_to_text()).sentences\n",
    "split_sentences = [str(sentence) for sentence in split_sentences]\n",
    "   "
   ]
  },
  {
   "cell_type": "code",
   "execution_count": 58,
   "metadata": {},
   "outputs": [],
   "source": [
    "newsentece='facebook can store user information'\n",
    "split_sentences.append(newsentece)"
   ]
  },
  {
   "cell_type": "markdown",
   "metadata": {},
   "source": [
    "call cousin similarity function"
   ]
  },
  {
   "cell_type": "code",
   "execution_count": 42,
   "metadata": {},
   "outputs": [
    {
     "name": "stdout",
     "output_type": "stream",
     "text": [
      "Our Service may contain links to third-party web sites or services that are not owned or controlled\n",
      "by My Company (change this). \t\t Facebook stores your data whether you have an account or not.  \t\t Score: 0.2107\n",
      "My Company (change this) has no control over, and assumes no responsibility for, the content,\n",
      "privacy policies, or practices of any third party web sites or services. \t\t Your identity is used in ads that are shown to other users  \t\t Score: 0.2683\n",
      "You further acknowledge and\n",
      "agree that My Company (change this) shall not be responsible or liable, directly or indirectly, for any\n",
      "damage or loss caused or alleged to be caused by or in connection with use of or reliance on any\n",
      "such content, goods or services available on or through any such web sites or services. \t\t The service can read your private messages  \t\t Score: 0.2297\n",
      "facebook can store user information \t\t This service can view your browser history  \t\t Score: 0.3100\n"
     ]
    }
   ],
   "source": [
    "result=cosine_similarity(split_sentences,sentences1)"
   ]
  },
  {
   "cell_type": "markdown",
   "metadata": {},
   "source": [
    "convert result into dataframe"
   ]
  },
  {
   "cell_type": "code",
   "execution_count": 59,
   "metadata": {},
   "outputs": [],
   "source": [
    "df=pd.DataFrame(result,columns=['user','data','score'])"
   ]
  },
  {
   "cell_type": "code",
   "execution_count": 44,
   "metadata": {},
   "outputs": [
    {
     "data": {
      "text/html": [
       "<div>\n",
       "<style scoped>\n",
       "    .dataframe tbody tr th:only-of-type {\n",
       "        vertical-align: middle;\n",
       "    }\n",
       "\n",
       "    .dataframe tbody tr th {\n",
       "        vertical-align: top;\n",
       "    }\n",
       "\n",
       "    .dataframe thead th {\n",
       "        text-align: right;\n",
       "    }\n",
       "</style>\n",
       "<table border=\"1\" class=\"dataframe\">\n",
       "  <thead>\n",
       "    <tr style=\"text-align: right;\">\n",
       "      <th></th>\n",
       "      <th>user</th>\n",
       "      <th>data</th>\n",
       "      <th>score</th>\n",
       "    </tr>\n",
       "  </thead>\n",
       "  <tbody>\n",
       "    <tr>\n",
       "      <th>0</th>\n",
       "      <td>Our Service may contain links to third-party w...</td>\n",
       "      <td>Facebook stores your data whether you have an ...</td>\n",
       "      <td>0.210749</td>\n",
       "    </tr>\n",
       "    <tr>\n",
       "      <th>1</th>\n",
       "      <td>My Company (change this) has no control over, ...</td>\n",
       "      <td>Your identity is used in ads that are shown to...</td>\n",
       "      <td>0.268343</td>\n",
       "    </tr>\n",
       "    <tr>\n",
       "      <th>2</th>\n",
       "      <td>You further acknowledge and\\nagree that My Com...</td>\n",
       "      <td>The service can read your private messages</td>\n",
       "      <td>0.229719</td>\n",
       "    </tr>\n",
       "    <tr>\n",
       "      <th>3</th>\n",
       "      <td>facebook can store user information</td>\n",
       "      <td>This service can view your browser history</td>\n",
       "      <td>0.309978</td>\n",
       "    </tr>\n",
       "  </tbody>\n",
       "</table>\n",
       "</div>"
      ],
      "text/plain": [
       "                                                user  \\\n",
       "0  Our Service may contain links to third-party w...   \n",
       "1  My Company (change this) has no control over, ...   \n",
       "2  You further acknowledge and\\nagree that My Com...   \n",
       "3                facebook can store user information   \n",
       "\n",
       "                                                data     score  \n",
       "0  Facebook stores your data whether you have an ...  0.210749  \n",
       "1  Your identity is used in ads that are shown to...  0.268343  \n",
       "2        The service can read your private messages   0.229719  \n",
       "3        This service can view your browser history   0.309978  "
      ]
     },
     "execution_count": 44,
     "metadata": {},
     "output_type": "execute_result"
    }
   ],
   "source": [
    "df"
   ]
  },
  {
   "cell_type": "code",
   "execution_count": null,
   "metadata": {},
   "outputs": [],
   "source": []
  }
 ],
 "metadata": {
  "kernelspec": {
   "display_name": "Python 3.7.3 ('finbert')",
   "language": "python",
   "name": "python3"
  },
  "language_info": {
   "codemirror_mode": {
    "name": "ipython",
    "version": 3
   },
   "file_extension": ".py",
   "mimetype": "text/x-python",
   "name": "python",
   "nbconvert_exporter": "python",
   "pygments_lexer": "ipython3",
   "version": "3.7.3"
  },
  "orig_nbformat": 4,
  "vscode": {
   "interpreter": {
    "hash": "5c68e0aab213d67dfbc737c6d8c1ad3adc0569cda7c8efa09397c7ec54c5aa17"
   }
  }
 },
 "nbformat": 4,
 "nbformat_minor": 2
}
